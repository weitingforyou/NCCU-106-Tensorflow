{
 "cells": [
  {
   "cell_type": "code",
   "execution_count": 1,
   "metadata": {},
   "outputs": [],
   "source": [
    "import tensorflow as tf\n",
    "import numpy as np"
   ]
  },
  {
   "cell_type": "code",
   "execution_count": 2,
   "metadata": {},
   "outputs": [],
   "source": [
    "def add_layer(inputs, input_size, output_size, activation_function=None):\n",
    "    Weights = tf.Variable(tf.random_normal([input_size, output_size]))\n",
    "    threshold = tf.Variable(tf.zeros([1, output_size]) + 0.1)\n",
    "    Wx_plus_b = tf.matmul(inputs, Weights) + threshold\n",
    "    if activation_function is None:\n",
    "        outputs = Wx_plus_b\n",
    "    else:\n",
    "        outputs = activation_function(Wx_plus_b)\n",
    "    return outputs"
   ]
  },
  {
   "cell_type": "code",
   "execution_count": 3,
   "metadata": {},
   "outputs": [],
   "source": [
    "def cal_stepsize(step_size, last_error, current_error):\n",
    "    if last_error < current_error: #worse\n",
    "        step_size = step_size * 0.7\n",
    "    elif last_error > current_error: #better\n",
    "        step_size = step_size * 1.2\n",
    "    return step_size"
   ]
  },
  {
   "cell_type": "code",
   "execution_count": 4,
   "metadata": {},
   "outputs": [
    {
     "name": "stdout",
     "output_type": "stream",
     "text": [
      "Please input your input size:5\n",
      "Please input your hidden size:4\n",
      "Please input your data volume:3\n"
     ]
    }
   ],
   "source": [
    "# Hyperparameters\n",
    "inputSize = int(float(input(\"Please input your input size:\")))\n",
    "hiddenSize = int(float(input(\"Please input your hidden size:\")))\n",
    "dataVolume = int(float(input(\"Please input your data volume:\")))\n",
    "outputSize = 1\n",
    "stepSize = 0.1\n",
    "lastError = 1"
   ]
  },
  {
   "cell_type": "code",
   "execution_count": 5,
   "metadata": {},
   "outputs": [],
   "source": [
    "# Training data\n",
    "x_data = 2 * np.random.random_sample([dataVolume, inputSize]) - 1\n",
    "y_data = np.random.rand()"
   ]
  },
  {
   "cell_type": "code",
   "execution_count": 6,
   "metadata": {},
   "outputs": [],
   "source": [
    "# Placeholder\n",
    "input_x = tf.placeholder(tf.float32, [dataVolume, inputSize])\n",
    "input_y = tf.placeholder(tf.float32)"
   ]
  },
  {
   "cell_type": "code",
   "execution_count": 7,
   "metadata": {},
   "outputs": [],
   "source": [
    "# Layer\n",
    "hiddenLayer = add_layer(input_x, inputSize, hiddenSize, activation_function=tf.tanh)\n",
    "outputLayer = add_layer(hiddenLayer, hiddenSize, outputSize, activation_function=None)"
   ]
  },
  {
   "cell_type": "code",
   "execution_count": 8,
   "metadata": {},
   "outputs": [],
   "source": [
    "# Optimizer\n",
    "error = tf.reduce_mean(tf.reduce_sum(tf.square(y_data - outputLayer), reduction_indices=[1]))\n",
    "train = tf.train.GradientDescentOptimizer(stepSize).minimize(error)"
   ]
  },
  {
   "cell_type": "code",
   "execution_count": 9,
   "metadata": {},
   "outputs": [
    {
     "name": "stdout",
     "output_type": "stream",
     "text": [
      "epoch:0,diff_error:-0.6678166687488556\n",
      "epoch:2,diff_error:-0.03707312047481537\n",
      "epoch:4,diff_error:-0.00972959864884615\n",
      "epoch:6,diff_error:-0.003405385185033083\n",
      "epoch:8,diff_error:-0.0012949015945196152\n",
      "epoch:10,diff_error:-0.0005159189458936453\n",
      "epoch:12,diff_error:-0.00021138781448826194\n",
      "epoch:14,diff_error:-8.810668077785522e-05\n",
      "epoch:16,diff_error:-3.712336183525622e-05\n",
      "epoch:18,diff_error:-1.5753083062008955e-05\n",
      "epoch:20,diff_error:-6.71400448482018e-06\n",
      "epoch:22,diff_error:-2.870916432584636e-06\n",
      "epoch:24,diff_error:-1.2284101558179827e-06\n",
      "epoch:26,diff_error:-5.273909664538223e-07\n",
      "epoch:28,diff_error:-2.258289555356896e-07\n",
      "epoch:30,diff_error:-9.719272497932252e-08\n",
      "epoch:32,diff_error:-4.1659234284452396e-08\n",
      "epoch:34,diff_error:-1.7961454545911693e-08\n",
      "epoch:36,diff_error:-7.767138932024409e-09\n",
      "epoch:38,diff_error:-3.365220546669434e-09\n",
      "epoch:40,diff_error:-1.4506924550516942e-09\n",
      "epoch:42,diff_error:-6.059615031972498e-10\n",
      "epoch:44,diff_error:-2.6397251051690773e-10\n",
      "epoch:46,diff_error:-1.0955267248924372e-10\n",
      "epoch:48,diff_error:-4.155254612614456e-11\n"
     ]
    }
   ],
   "source": [
    "# Launch the graph\n",
    "init = tf.global_variables_initializer()\n",
    "with tf.Session() as sess:\n",
    "    sess.run(init)\n",
    "    \n",
    "    for i in range(50):\n",
    "        # training\n",
    "        sess.run(train, feed_dict={input_x:x_data, input_y:y_data})\n",
    "        currentError = sess.run(error, feed_dict={input_x:x_data, input_y:y_data})\n",
    "        stepSize = cal_stepsize(stepSize, lastError, currentError)\n",
    "        diff_error = currentError - lastError\n",
    "        lastError = currentError\n",
    "        \n",
    "        if i % 2 == 0:\n",
    "            #print ('epoch:{}, currentError:{:0.16f}, learningRate:{:0.4f}'.format(i, currentError, learningRate))\n",
    "            print ('epoch:{},diff_error:{}'.format(i, diff_error))\n",
    "    \n",
    "    sess.close()"
   ]
  },
  {
   "cell_type": "code",
   "execution_count": null,
   "metadata": {},
   "outputs": [],
   "source": []
  }
 ],
 "metadata": {
  "kernelspec": {
   "display_name": "Python 3",
   "language": "python",
   "name": "python3"
  },
  "language_info": {
   "codemirror_mode": {
    "name": "ipython",
    "version": 3
   },
   "file_extension": ".py",
   "mimetype": "text/x-python",
   "name": "python",
   "nbconvert_exporter": "python",
   "pygments_lexer": "ipython3",
   "version": "3.6.2"
  }
 },
 "nbformat": 4,
 "nbformat_minor": 2
}
